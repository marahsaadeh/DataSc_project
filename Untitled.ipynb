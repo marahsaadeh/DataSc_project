{
 "cells": [
  {
   "cell_type": "markdown",
   "id": "ffa7aa44",
   "metadata": {},
   "source": [
    "# Acute Inflammations project"
   ]
  },
  {
   "cell_type": "markdown",
   "id": "92b19d5d",
   "metadata": {},
   "source": [
    "My goal in this project is to study the urology dataset to later prepare an expert system algorithm that will hypothetically diagnose two urological diseases: cystitis and nephrolithiasis. Where the user is asked about certain symptoms and predicts the disease correctly.\n",
    "For the success of my study of the data, I visualized the data and studied the relationships between the symptoms of the disease that the patient enters and the disease, and the extent to which symptoms affect the identification of the disease.Then represent it with a drawing in some way so that it can be easily described to the groups concerned."
   ]
  },
  {
   "cell_type": "code",
   "execution_count": 269,
   "id": "2ce5c1c0",
   "metadata": {},
   "outputs": [],
   "source": [
    "import pandas as pd\n",
    "import numpy as np\n",
    "import matplotlib.pyplot as plt\n",
    "%matplotlib inline"
   ]
  },
  {
   "cell_type": "code",
   "execution_count": 2,
   "id": "c0750d77",
   "metadata": {},
   "outputs": [
    {
     "data": {
      "text/html": [
       "<div>\n",
       "<style scoped>\n",
       "    .dataframe tbody tr th:only-of-type {\n",
       "        vertical-align: middle;\n",
       "    }\n",
       "\n",
       "    .dataframe tbody tr th {\n",
       "        vertical-align: top;\n",
       "    }\n",
       "\n",
       "    .dataframe thead th {\n",
       "        text-align: right;\n",
       "    }\n",
       "</style>\n",
       "<table border=\"1\" class=\"dataframe\">\n",
       "  <thead>\n",
       "    <tr style=\"text-align: right;\">\n",
       "      <th></th>\n",
       "      <th>35,5</th>\n",
       "      <th>no</th>\n",
       "      <th>yes</th>\n",
       "      <th>no.1</th>\n",
       "      <th>no.2</th>\n",
       "      <th>no.3</th>\n",
       "      <th>no.4</th>\n",
       "      <th>no.5</th>\n",
       "    </tr>\n",
       "  </thead>\n",
       "  <tbody>\n",
       "    <tr>\n",
       "      <th>0</th>\n",
       "      <td>35,9</td>\n",
       "      <td>no</td>\n",
       "      <td>no</td>\n",
       "      <td>yes</td>\n",
       "      <td>yes</td>\n",
       "      <td>yes</td>\n",
       "      <td>yes</td>\n",
       "      <td>no</td>\n",
       "    </tr>\n",
       "    <tr>\n",
       "      <th>1</th>\n",
       "      <td>35,9</td>\n",
       "      <td>no</td>\n",
       "      <td>yes</td>\n",
       "      <td>no</td>\n",
       "      <td>no</td>\n",
       "      <td>no</td>\n",
       "      <td>no</td>\n",
       "      <td>no</td>\n",
       "    </tr>\n",
       "    <tr>\n",
       "      <th>2</th>\n",
       "      <td>36,0</td>\n",
       "      <td>no</td>\n",
       "      <td>no</td>\n",
       "      <td>yes</td>\n",
       "      <td>yes</td>\n",
       "      <td>yes</td>\n",
       "      <td>yes</td>\n",
       "      <td>no</td>\n",
       "    </tr>\n",
       "    <tr>\n",
       "      <th>3</th>\n",
       "      <td>36,0</td>\n",
       "      <td>no</td>\n",
       "      <td>yes</td>\n",
       "      <td>no</td>\n",
       "      <td>no</td>\n",
       "      <td>no</td>\n",
       "      <td>no</td>\n",
       "      <td>no</td>\n",
       "    </tr>\n",
       "    <tr>\n",
       "      <th>4</th>\n",
       "      <td>36,0</td>\n",
       "      <td>no</td>\n",
       "      <td>yes</td>\n",
       "      <td>no</td>\n",
       "      <td>no</td>\n",
       "      <td>no</td>\n",
       "      <td>no</td>\n",
       "      <td>no</td>\n",
       "    </tr>\n",
       "    <tr>\n",
       "      <th>...</th>\n",
       "      <td>...</td>\n",
       "      <td>...</td>\n",
       "      <td>...</td>\n",
       "      <td>...</td>\n",
       "      <td>...</td>\n",
       "      <td>...</td>\n",
       "      <td>...</td>\n",
       "      <td>...</td>\n",
       "    </tr>\n",
       "    <tr>\n",
       "      <th>114</th>\n",
       "      <td>41,4</td>\n",
       "      <td>no</td>\n",
       "      <td>yes</td>\n",
       "      <td>yes</td>\n",
       "      <td>no</td>\n",
       "      <td>yes</td>\n",
       "      <td>no</td>\n",
       "      <td>yes</td>\n",
       "    </tr>\n",
       "    <tr>\n",
       "      <th>115</th>\n",
       "      <td>41,5</td>\n",
       "      <td>no</td>\n",
       "      <td>no</td>\n",
       "      <td>no</td>\n",
       "      <td>no</td>\n",
       "      <td>no</td>\n",
       "      <td>no</td>\n",
       "      <td>no</td>\n",
       "    </tr>\n",
       "    <tr>\n",
       "      <th>116</th>\n",
       "      <td>41,5</td>\n",
       "      <td>yes</td>\n",
       "      <td>yes</td>\n",
       "      <td>no</td>\n",
       "      <td>yes</td>\n",
       "      <td>no</td>\n",
       "      <td>no</td>\n",
       "      <td>yes</td>\n",
       "    </tr>\n",
       "    <tr>\n",
       "      <th>117</th>\n",
       "      <td>41,5</td>\n",
       "      <td>no</td>\n",
       "      <td>yes</td>\n",
       "      <td>yes</td>\n",
       "      <td>no</td>\n",
       "      <td>yes</td>\n",
       "      <td>no</td>\n",
       "      <td>yes</td>\n",
       "    </tr>\n",
       "    <tr>\n",
       "      <th>118</th>\n",
       "      <td>41,5</td>\n",
       "      <td>no</td>\n",
       "      <td>yes</td>\n",
       "      <td>yes</td>\n",
       "      <td>no</td>\n",
       "      <td>yes</td>\n",
       "      <td>no</td>\n",
       "      <td>yes</td>\n",
       "    </tr>\n",
       "  </tbody>\n",
       "</table>\n",
       "<p>119 rows × 8 columns</p>\n",
       "</div>"
      ],
      "text/plain": [
       "     35,5   no  yes no.1 no.2 no.3 no.4 no.5\n",
       "0    35,9   no   no  yes  yes  yes  yes   no\n",
       "1    35,9   no  yes   no   no   no   no   no\n",
       "2    36,0   no   no  yes  yes  yes  yes   no\n",
       "3    36,0   no  yes   no   no   no   no   no\n",
       "4    36,0   no  yes   no   no   no   no   no\n",
       "..    ...  ...  ...  ...  ...  ...  ...  ...\n",
       "114  41,4   no  yes  yes   no  yes   no  yes\n",
       "115  41,5   no   no   no   no   no   no   no\n",
       "116  41,5  yes  yes   no  yes   no   no  yes\n",
       "117  41,5   no  yes  yes   no  yes   no  yes\n",
       "118  41,5   no  yes  yes   no  yes   no  yes\n",
       "\n",
       "[119 rows x 8 columns]"
      ]
     },
     "execution_count": 2,
     "metadata": {},
     "output_type": "execute_result"
    }
   ],
   "source": [
    "#read txt file \n",
    "df=pd.read_csv('diagnosis.csv',encoding='utf-16',encoding_errors='ignore', delimiter='\\t')\n",
    "df"
   ]
  },
  {
   "cell_type": "code",
   "execution_count": 3,
   "id": "b096897a",
   "metadata": {},
   "outputs": [],
   "source": [
    "# Rename columns \n",
    "\"\"\"\"\"\"\"\"\"\"\n",
    "Name it in a simpler way to make it easier to handle\n",
    "'temperature' for:                          Temperature_of_patient\n",
    "'nausea_occurence' for:                     Occurrence_of_nausea\n",
    "'lumbar_pain' for:                          Lumbar_pain\n",
    "'urine_pushing' for:                        Urine_pushing\n",
    "'micturition_pains' for:                    Micturition_pains\n",
    "'bis' for:                                  Burning_of_urethra_and_itch_and_swelling_of_urethra_outlet\n",
    "'inflammation_pred' for:                    Inflammation_of_urinary_bladder\n",
    "'nephritis_pred' for:                       Nephritis_of_renal_pelvis_origin\n",
    "\"\"\"\"\"\"\"\"\"\"\n",
    "df.columns=['temperature', 'nausea_occurence', 'lumbar_pain', 'urine_pushing',\n",
    "                 'micturition_pains', 'bis','inflammation_pred', 'nephritis_pred']"
   ]
  },
  {
   "cell_type": "code",
   "execution_count": 4,
   "id": "32909f67",
   "metadata": {},
   "outputs": [],
   "source": [
    "# Using pandas.concat() to add a row at Top of df\n",
    "def add_row_at_Top (df):\n",
    "    new_row = pd.DataFrame({'temperature':'35,5','nausea_occurence':'no', 'lumbar_pain':'yes', 'urine_pushing':'no','micturition_pains':'no', 'bis':'no','inflammation_pred':'no', 'nephritis_pred':'no'}, index=[0])\n",
    "    df= pd.concat([new_row,df.loc[:]]).reset_index(drop=True)\n",
    "    return df\n",
    "df=add_row_at_Top (df)"
   ]
  },
  {
   "cell_type": "code",
   "execution_count": 5,
   "id": "143caf5a",
   "metadata": {},
   "outputs": [
    {
     "data": {
      "text/html": [
       "<div>\n",
       "<style scoped>\n",
       "    .dataframe tbody tr th:only-of-type {\n",
       "        vertical-align: middle;\n",
       "    }\n",
       "\n",
       "    .dataframe tbody tr th {\n",
       "        vertical-align: top;\n",
       "    }\n",
       "\n",
       "    .dataframe thead th {\n",
       "        text-align: right;\n",
       "    }\n",
       "</style>\n",
       "<table border=\"1\" class=\"dataframe\">\n",
       "  <thead>\n",
       "    <tr style=\"text-align: right;\">\n",
       "      <th></th>\n",
       "      <th>temperature</th>\n",
       "      <th>nausea_occurence</th>\n",
       "      <th>lumbar_pain</th>\n",
       "      <th>urine_pushing</th>\n",
       "      <th>micturition_pains</th>\n",
       "      <th>bis</th>\n",
       "      <th>inflammation_pred</th>\n",
       "      <th>nephritis_pred</th>\n",
       "    </tr>\n",
       "  </thead>\n",
       "  <tbody>\n",
       "    <tr>\n",
       "      <th>0</th>\n",
       "      <td>35,5</td>\n",
       "      <td>no</td>\n",
       "      <td>yes</td>\n",
       "      <td>no</td>\n",
       "      <td>no</td>\n",
       "      <td>no</td>\n",
       "      <td>no</td>\n",
       "      <td>no</td>\n",
       "    </tr>\n",
       "    <tr>\n",
       "      <th>1</th>\n",
       "      <td>35,9</td>\n",
       "      <td>no</td>\n",
       "      <td>no</td>\n",
       "      <td>yes</td>\n",
       "      <td>yes</td>\n",
       "      <td>yes</td>\n",
       "      <td>yes</td>\n",
       "      <td>no</td>\n",
       "    </tr>\n",
       "    <tr>\n",
       "      <th>2</th>\n",
       "      <td>35,9</td>\n",
       "      <td>no</td>\n",
       "      <td>yes</td>\n",
       "      <td>no</td>\n",
       "      <td>no</td>\n",
       "      <td>no</td>\n",
       "      <td>no</td>\n",
       "      <td>no</td>\n",
       "    </tr>\n",
       "    <tr>\n",
       "      <th>3</th>\n",
       "      <td>36,0</td>\n",
       "      <td>no</td>\n",
       "      <td>no</td>\n",
       "      <td>yes</td>\n",
       "      <td>yes</td>\n",
       "      <td>yes</td>\n",
       "      <td>yes</td>\n",
       "      <td>no</td>\n",
       "    </tr>\n",
       "    <tr>\n",
       "      <th>4</th>\n",
       "      <td>36,0</td>\n",
       "      <td>no</td>\n",
       "      <td>yes</td>\n",
       "      <td>no</td>\n",
       "      <td>no</td>\n",
       "      <td>no</td>\n",
       "      <td>no</td>\n",
       "      <td>no</td>\n",
       "    </tr>\n",
       "    <tr>\n",
       "      <th>...</th>\n",
       "      <td>...</td>\n",
       "      <td>...</td>\n",
       "      <td>...</td>\n",
       "      <td>...</td>\n",
       "      <td>...</td>\n",
       "      <td>...</td>\n",
       "      <td>...</td>\n",
       "      <td>...</td>\n",
       "    </tr>\n",
       "    <tr>\n",
       "      <th>115</th>\n",
       "      <td>41,4</td>\n",
       "      <td>no</td>\n",
       "      <td>yes</td>\n",
       "      <td>yes</td>\n",
       "      <td>no</td>\n",
       "      <td>yes</td>\n",
       "      <td>no</td>\n",
       "      <td>yes</td>\n",
       "    </tr>\n",
       "    <tr>\n",
       "      <th>116</th>\n",
       "      <td>41,5</td>\n",
       "      <td>no</td>\n",
       "      <td>no</td>\n",
       "      <td>no</td>\n",
       "      <td>no</td>\n",
       "      <td>no</td>\n",
       "      <td>no</td>\n",
       "      <td>no</td>\n",
       "    </tr>\n",
       "    <tr>\n",
       "      <th>117</th>\n",
       "      <td>41,5</td>\n",
       "      <td>yes</td>\n",
       "      <td>yes</td>\n",
       "      <td>no</td>\n",
       "      <td>yes</td>\n",
       "      <td>no</td>\n",
       "      <td>no</td>\n",
       "      <td>yes</td>\n",
       "    </tr>\n",
       "    <tr>\n",
       "      <th>118</th>\n",
       "      <td>41,5</td>\n",
       "      <td>no</td>\n",
       "      <td>yes</td>\n",
       "      <td>yes</td>\n",
       "      <td>no</td>\n",
       "      <td>yes</td>\n",
       "      <td>no</td>\n",
       "      <td>yes</td>\n",
       "    </tr>\n",
       "    <tr>\n",
       "      <th>119</th>\n",
       "      <td>41,5</td>\n",
       "      <td>no</td>\n",
       "      <td>yes</td>\n",
       "      <td>yes</td>\n",
       "      <td>no</td>\n",
       "      <td>yes</td>\n",
       "      <td>no</td>\n",
       "      <td>yes</td>\n",
       "    </tr>\n",
       "  </tbody>\n",
       "</table>\n",
       "<p>120 rows × 8 columns</p>\n",
       "</div>"
      ],
      "text/plain": [
       "    temperature nausea_occurence lumbar_pain urine_pushing micturition_pains  \\\n",
       "0          35,5               no         yes            no                no   \n",
       "1          35,9               no          no           yes               yes   \n",
       "2          35,9               no         yes            no                no   \n",
       "3          36,0               no          no           yes               yes   \n",
       "4          36,0               no         yes            no                no   \n",
       "..          ...              ...         ...           ...               ...   \n",
       "115        41,4               no         yes           yes                no   \n",
       "116        41,5               no          no            no                no   \n",
       "117        41,5              yes         yes            no               yes   \n",
       "118        41,5               no         yes           yes                no   \n",
       "119        41,5               no         yes           yes                no   \n",
       "\n",
       "     bis inflammation_pred nephritis_pred  \n",
       "0     no                no             no  \n",
       "1    yes               yes             no  \n",
       "2     no                no             no  \n",
       "3    yes               yes             no  \n",
       "4     no                no             no  \n",
       "..   ...               ...            ...  \n",
       "115  yes                no            yes  \n",
       "116   no                no             no  \n",
       "117   no                no            yes  \n",
       "118  yes                no            yes  \n",
       "119  yes                no            yes  \n",
       "\n",
       "[120 rows x 8 columns]"
      ]
     },
     "execution_count": 5,
     "metadata": {},
     "output_type": "execute_result"
    }
   ],
   "source": [
    "df"
   ]
  },
  {
   "cell_type": "markdown",
   "id": "c758fdcd",
   "metadata": {},
   "source": [
    "# Solving duplicated row "
   ]
  },
  {
   "cell_type": "code",
   "execution_count": 6,
   "id": "e6fd53e3",
   "metadata": {},
   "outputs": [
    {
     "data": {
      "text/plain": [
       "21"
      ]
     },
     "execution_count": 6,
     "metadata": {},
     "output_type": "execute_result"
    }
   ],
   "source": [
    "# The number of duplicate rows\n",
    "df.duplicated().sum()"
   ]
  },
  {
   "cell_type": "code",
   "execution_count": 7,
   "id": "09e7a719",
   "metadata": {},
   "outputs": [],
   "source": [
    "# first instance of a duplicate row to be unique\n",
    "bool_series = df.duplicated(keep='first')\n",
    "# The `~` sign is used for negation. It changes the boolean value True to False and False to True.\n",
    "df=df[~bool_series]"
   ]
  },
  {
   "cell_type": "code",
   "execution_count": 8,
   "id": "bff0534d",
   "metadata": {},
   "outputs": [
    {
     "data": {
      "text/plain": [
       "0"
      ]
     },
     "execution_count": 8,
     "metadata": {},
     "output_type": "execute_result"
    }
   ],
   "source": [
    "df.duplicated().sum()"
   ]
  },
  {
   "cell_type": "code",
   "execution_count": 9,
   "id": "3cc49c47",
   "metadata": {},
   "outputs": [
    {
     "data": {
      "text/html": [
       "<div>\n",
       "<style scoped>\n",
       "    .dataframe tbody tr th:only-of-type {\n",
       "        vertical-align: middle;\n",
       "    }\n",
       "\n",
       "    .dataframe tbody tr th {\n",
       "        vertical-align: top;\n",
       "    }\n",
       "\n",
       "    .dataframe thead th {\n",
       "        text-align: right;\n",
       "    }\n",
       "</style>\n",
       "<table border=\"1\" class=\"dataframe\">\n",
       "  <thead>\n",
       "    <tr style=\"text-align: right;\">\n",
       "      <th></th>\n",
       "      <th>temperature</th>\n",
       "      <th>nausea_occurence</th>\n",
       "      <th>lumbar_pain</th>\n",
       "      <th>urine_pushing</th>\n",
       "      <th>micturition_pains</th>\n",
       "      <th>bis</th>\n",
       "      <th>inflammation_pred</th>\n",
       "      <th>nephritis_pred</th>\n",
       "    </tr>\n",
       "  </thead>\n",
       "  <tbody>\n",
       "    <tr>\n",
       "      <th>0</th>\n",
       "      <td>35,5</td>\n",
       "      <td>no</td>\n",
       "      <td>yes</td>\n",
       "      <td>no</td>\n",
       "      <td>no</td>\n",
       "      <td>no</td>\n",
       "      <td>no</td>\n",
       "      <td>no</td>\n",
       "    </tr>\n",
       "    <tr>\n",
       "      <th>1</th>\n",
       "      <td>35,9</td>\n",
       "      <td>no</td>\n",
       "      <td>no</td>\n",
       "      <td>yes</td>\n",
       "      <td>yes</td>\n",
       "      <td>yes</td>\n",
       "      <td>yes</td>\n",
       "      <td>no</td>\n",
       "    </tr>\n",
       "    <tr>\n",
       "      <th>2</th>\n",
       "      <td>35,9</td>\n",
       "      <td>no</td>\n",
       "      <td>yes</td>\n",
       "      <td>no</td>\n",
       "      <td>no</td>\n",
       "      <td>no</td>\n",
       "      <td>no</td>\n",
       "      <td>no</td>\n",
       "    </tr>\n",
       "    <tr>\n",
       "      <th>3</th>\n",
       "      <td>36,0</td>\n",
       "      <td>no</td>\n",
       "      <td>no</td>\n",
       "      <td>yes</td>\n",
       "      <td>yes</td>\n",
       "      <td>yes</td>\n",
       "      <td>yes</td>\n",
       "      <td>no</td>\n",
       "    </tr>\n",
       "    <tr>\n",
       "      <th>4</th>\n",
       "      <td>36,0</td>\n",
       "      <td>no</td>\n",
       "      <td>yes</td>\n",
       "      <td>no</td>\n",
       "      <td>no</td>\n",
       "      <td>no</td>\n",
       "      <td>no</td>\n",
       "      <td>no</td>\n",
       "    </tr>\n",
       "    <tr>\n",
       "      <th>...</th>\n",
       "      <td>...</td>\n",
       "      <td>...</td>\n",
       "      <td>...</td>\n",
       "      <td>...</td>\n",
       "      <td>...</td>\n",
       "      <td>...</td>\n",
       "      <td>...</td>\n",
       "      <td>...</td>\n",
       "    </tr>\n",
       "    <tr>\n",
       "      <th>94</th>\n",
       "      <td>41,3</td>\n",
       "      <td>yes</td>\n",
       "      <td>yes</td>\n",
       "      <td>yes</td>\n",
       "      <td>yes</td>\n",
       "      <td>no</td>\n",
       "      <td>yes</td>\n",
       "      <td>yes</td>\n",
       "    </tr>\n",
       "    <tr>\n",
       "      <th>95</th>\n",
       "      <td>41,4</td>\n",
       "      <td>no</td>\n",
       "      <td>yes</td>\n",
       "      <td>yes</td>\n",
       "      <td>no</td>\n",
       "      <td>yes</td>\n",
       "      <td>no</td>\n",
       "      <td>yes</td>\n",
       "    </tr>\n",
       "    <tr>\n",
       "      <th>96</th>\n",
       "      <td>41,5</td>\n",
       "      <td>no</td>\n",
       "      <td>no</td>\n",
       "      <td>no</td>\n",
       "      <td>no</td>\n",
       "      <td>no</td>\n",
       "      <td>no</td>\n",
       "      <td>no</td>\n",
       "    </tr>\n",
       "    <tr>\n",
       "      <th>97</th>\n",
       "      <td>41,5</td>\n",
       "      <td>yes</td>\n",
       "      <td>yes</td>\n",
       "      <td>no</td>\n",
       "      <td>yes</td>\n",
       "      <td>no</td>\n",
       "      <td>no</td>\n",
       "      <td>yes</td>\n",
       "    </tr>\n",
       "    <tr>\n",
       "      <th>98</th>\n",
       "      <td>41,5</td>\n",
       "      <td>no</td>\n",
       "      <td>yes</td>\n",
       "      <td>yes</td>\n",
       "      <td>no</td>\n",
       "      <td>yes</td>\n",
       "      <td>no</td>\n",
       "      <td>yes</td>\n",
       "    </tr>\n",
       "  </tbody>\n",
       "</table>\n",
       "<p>99 rows × 8 columns</p>\n",
       "</div>"
      ],
      "text/plain": [
       "   temperature nausea_occurence lumbar_pain urine_pushing micturition_pains  \\\n",
       "0         35,5               no         yes            no                no   \n",
       "1         35,9               no          no           yes               yes   \n",
       "2         35,9               no         yes            no                no   \n",
       "3         36,0               no          no           yes               yes   \n",
       "4         36,0               no         yes            no                no   \n",
       "..         ...              ...         ...           ...               ...   \n",
       "94        41,3              yes         yes           yes               yes   \n",
       "95        41,4               no         yes           yes                no   \n",
       "96        41,5               no          no            no                no   \n",
       "97        41,5              yes         yes            no               yes   \n",
       "98        41,5               no         yes           yes                no   \n",
       "\n",
       "    bis inflammation_pred nephritis_pred  \n",
       "0    no                no             no  \n",
       "1   yes               yes             no  \n",
       "2    no                no             no  \n",
       "3   yes               yes             no  \n",
       "4    no                no             no  \n",
       "..  ...               ...            ...  \n",
       "94   no               yes            yes  \n",
       "95  yes                no            yes  \n",
       "96   no                no             no  \n",
       "97   no                no            yes  \n",
       "98  yes                no            yes  \n",
       "\n",
       "[99 rows x 8 columns]"
      ]
     },
     "execution_count": 9,
     "metadata": {},
     "output_type": "execute_result"
    }
   ],
   "source": [
    "#Re_number df\n",
    "df.reset_index(drop=True, inplace=True)\n",
    "df"
   ]
  },
  {
   "cell_type": "code",
   "execution_count": 11,
   "id": "91f64923",
   "metadata": {},
   "outputs": [],
   "source": [
    "# Replace \",\" in temperature to \".\" so that it can understand it\n",
    "def replace_comma(df):\n",
    "    index=0\n",
    "    while index<len(df):\n",
    "        df.loc[index,'temperature'] = df.loc[index,'temperature'].replace(\",\", \".\" )\n",
    "        index=index+1\n",
    "    return df\n",
    "df=replace_comma(df)"
   ]
  },
  {
   "cell_type": "code",
   "execution_count": 12,
   "id": "386d7764",
   "metadata": {},
   "outputs": [
    {
     "name": "stdout",
     "output_type": "stream",
     "text": [
      "<class 'pandas.core.frame.DataFrame'>\n",
      "RangeIndex: 99 entries, 0 to 98\n",
      "Data columns (total 8 columns):\n",
      " #   Column             Non-Null Count  Dtype \n",
      "---  ------             --------------  ----- \n",
      " 0   temperature        99 non-null     object\n",
      " 1   nausea_occurence   99 non-null     object\n",
      " 2   lumbar_pain        99 non-null     object\n",
      " 3   urine_pushing      99 non-null     object\n",
      " 4   micturition_pains  99 non-null     object\n",
      " 5   bis                99 non-null     object\n",
      " 6   inflammation_pred  99 non-null     object\n",
      " 7   nephritis_pred     99 non-null     object\n",
      "dtypes: object(8)\n",
      "memory usage: 6.3+ KB\n"
     ]
    }
   ],
   "source": [
    "df.info()"
   ]
  },
  {
   "cell_type": "code",
   "execution_count": 13,
   "id": "077422f6",
   "metadata": {},
   "outputs": [],
   "source": [
    "df.to_csv('NewDiagnosis.csv')"
   ]
  },
  {
   "cell_type": "markdown",
   "id": "eb23fdb2",
   "metadata": {},
   "source": [
    "# Read new txt file "
   ]
  },
  {
   "cell_type": "code",
   "execution_count": 182,
   "id": "e828e863",
   "metadata": {},
   "outputs": [
    {
     "data": {
      "text/html": [
       "<div>\n",
       "<style scoped>\n",
       "    .dataframe tbody tr th:only-of-type {\n",
       "        vertical-align: middle;\n",
       "    }\n",
       "\n",
       "    .dataframe tbody tr th {\n",
       "        vertical-align: top;\n",
       "    }\n",
       "\n",
       "    .dataframe thead th {\n",
       "        text-align: right;\n",
       "    }\n",
       "</style>\n",
       "<table border=\"1\" class=\"dataframe\">\n",
       "  <thead>\n",
       "    <tr style=\"text-align: right;\">\n",
       "      <th></th>\n",
       "      <th>Unnamed: 0</th>\n",
       "      <th>temperature</th>\n",
       "      <th>nausea_occurence</th>\n",
       "      <th>lumbar_pain</th>\n",
       "      <th>urine_pushing</th>\n",
       "      <th>micturition_pains</th>\n",
       "      <th>bis</th>\n",
       "      <th>inflammation_pred</th>\n",
       "      <th>nephritis_pred</th>\n",
       "    </tr>\n",
       "  </thead>\n",
       "  <tbody>\n",
       "    <tr>\n",
       "      <th>0</th>\n",
       "      <td>0</td>\n",
       "      <td>35.5</td>\n",
       "      <td>no</td>\n",
       "      <td>yes</td>\n",
       "      <td>no</td>\n",
       "      <td>no</td>\n",
       "      <td>no</td>\n",
       "      <td>no</td>\n",
       "      <td>no</td>\n",
       "    </tr>\n",
       "    <tr>\n",
       "      <th>1</th>\n",
       "      <td>1</td>\n",
       "      <td>35.9</td>\n",
       "      <td>no</td>\n",
       "      <td>no</td>\n",
       "      <td>yes</td>\n",
       "      <td>yes</td>\n",
       "      <td>yes</td>\n",
       "      <td>yes</td>\n",
       "      <td>no</td>\n",
       "    </tr>\n",
       "    <tr>\n",
       "      <th>2</th>\n",
       "      <td>2</td>\n",
       "      <td>35.9</td>\n",
       "      <td>no</td>\n",
       "      <td>yes</td>\n",
       "      <td>no</td>\n",
       "      <td>no</td>\n",
       "      <td>no</td>\n",
       "      <td>no</td>\n",
       "      <td>no</td>\n",
       "    </tr>\n",
       "    <tr>\n",
       "      <th>3</th>\n",
       "      <td>3</td>\n",
       "      <td>36.0</td>\n",
       "      <td>no</td>\n",
       "      <td>no</td>\n",
       "      <td>yes</td>\n",
       "      <td>yes</td>\n",
       "      <td>yes</td>\n",
       "      <td>yes</td>\n",
       "      <td>no</td>\n",
       "    </tr>\n",
       "    <tr>\n",
       "      <th>4</th>\n",
       "      <td>4</td>\n",
       "      <td>36.0</td>\n",
       "      <td>no</td>\n",
       "      <td>yes</td>\n",
       "      <td>no</td>\n",
       "      <td>no</td>\n",
       "      <td>no</td>\n",
       "      <td>no</td>\n",
       "      <td>no</td>\n",
       "    </tr>\n",
       "    <tr>\n",
       "      <th>...</th>\n",
       "      <td>...</td>\n",
       "      <td>...</td>\n",
       "      <td>...</td>\n",
       "      <td>...</td>\n",
       "      <td>...</td>\n",
       "      <td>...</td>\n",
       "      <td>...</td>\n",
       "      <td>...</td>\n",
       "      <td>...</td>\n",
       "    </tr>\n",
       "    <tr>\n",
       "      <th>94</th>\n",
       "      <td>94</td>\n",
       "      <td>41.3</td>\n",
       "      <td>yes</td>\n",
       "      <td>yes</td>\n",
       "      <td>yes</td>\n",
       "      <td>yes</td>\n",
       "      <td>no</td>\n",
       "      <td>yes</td>\n",
       "      <td>yes</td>\n",
       "    </tr>\n",
       "    <tr>\n",
       "      <th>95</th>\n",
       "      <td>95</td>\n",
       "      <td>41.4</td>\n",
       "      <td>no</td>\n",
       "      <td>yes</td>\n",
       "      <td>yes</td>\n",
       "      <td>no</td>\n",
       "      <td>yes</td>\n",
       "      <td>no</td>\n",
       "      <td>yes</td>\n",
       "    </tr>\n",
       "    <tr>\n",
       "      <th>96</th>\n",
       "      <td>96</td>\n",
       "      <td>41.5</td>\n",
       "      <td>no</td>\n",
       "      <td>no</td>\n",
       "      <td>no</td>\n",
       "      <td>no</td>\n",
       "      <td>no</td>\n",
       "      <td>no</td>\n",
       "      <td>no</td>\n",
       "    </tr>\n",
       "    <tr>\n",
       "      <th>97</th>\n",
       "      <td>97</td>\n",
       "      <td>41.5</td>\n",
       "      <td>yes</td>\n",
       "      <td>yes</td>\n",
       "      <td>no</td>\n",
       "      <td>yes</td>\n",
       "      <td>no</td>\n",
       "      <td>no</td>\n",
       "      <td>yes</td>\n",
       "    </tr>\n",
       "    <tr>\n",
       "      <th>98</th>\n",
       "      <td>98</td>\n",
       "      <td>41.5</td>\n",
       "      <td>no</td>\n",
       "      <td>yes</td>\n",
       "      <td>yes</td>\n",
       "      <td>no</td>\n",
       "      <td>yes</td>\n",
       "      <td>no</td>\n",
       "      <td>yes</td>\n",
       "    </tr>\n",
       "  </tbody>\n",
       "</table>\n",
       "<p>99 rows × 9 columns</p>\n",
       "</div>"
      ],
      "text/plain": [
       "    Unnamed: 0  temperature nausea_occurence lumbar_pain urine_pushing  \\\n",
       "0            0         35.5               no         yes            no   \n",
       "1            1         35.9               no          no           yes   \n",
       "2            2         35.9               no         yes            no   \n",
       "3            3         36.0               no          no           yes   \n",
       "4            4         36.0               no         yes            no   \n",
       "..         ...          ...              ...         ...           ...   \n",
       "94          94         41.3              yes         yes           yes   \n",
       "95          95         41.4               no         yes           yes   \n",
       "96          96         41.5               no          no            no   \n",
       "97          97         41.5              yes         yes            no   \n",
       "98          98         41.5               no         yes           yes   \n",
       "\n",
       "   micturition_pains  bis inflammation_pred nephritis_pred  \n",
       "0                 no   no                no             no  \n",
       "1                yes  yes               yes             no  \n",
       "2                 no   no                no             no  \n",
       "3                yes  yes               yes             no  \n",
       "4                 no   no                no             no  \n",
       "..               ...  ...               ...            ...  \n",
       "94               yes   no               yes            yes  \n",
       "95                no  yes                no            yes  \n",
       "96                no   no                no             no  \n",
       "97               yes   no                no            yes  \n",
       "98                no  yes                no            yes  \n",
       "\n",
       "[99 rows x 9 columns]"
      ]
     },
     "execution_count": 182,
     "metadata": {},
     "output_type": "execute_result"
    }
   ],
   "source": [
    "df=pd.read_csv('NewDiagnosis.csv')\n",
    "df"
   ]
  },
  {
   "cell_type": "code",
   "execution_count": 184,
   "id": "7130532c",
   "metadata": {},
   "outputs": [],
   "source": [
    "# Drop it because it is not useful\n",
    "df=df.drop(columns=['Unnamed: 0'])"
   ]
  },
  {
   "cell_type": "code",
   "execution_count": 185,
   "id": "af459955",
   "metadata": {},
   "outputs": [
    {
     "data": {
      "text/plain": [
       "temperature          object\n",
       "nausea_occurence     object\n",
       "lumbar_pain          object\n",
       "urine_pushing        object\n",
       "micturition_pains    object\n",
       "bis                  object\n",
       "inflammation_pred    object\n",
       "nephritis_pred       object\n",
       "dtype: object"
      ]
     },
     "execution_count": 185,
     "metadata": {},
     "output_type": "execute_result"
    }
   ],
   "source": [
    "df.dtypes"
   ]
  },
  {
   "cell_type": "code",
   "execution_count": 186,
   "id": "2e044bd1",
   "metadata": {},
   "outputs": [
    {
     "data": {
      "text/plain": [
       "temperature          0\n",
       "nausea_occurence     0\n",
       "lumbar_pain          0\n",
       "urine_pushing        0\n",
       "micturition_pains    0\n",
       "bis                  0\n",
       "inflammation_pred    0\n",
       "nephritis_pred       0\n",
       "dtype: int64"
      ]
     },
     "execution_count": 186,
     "metadata": {},
     "output_type": "execute_result"
    }
   ],
   "source": [
    "df.isna().sum()"
   ]
  },
  {
   "cell_type": "markdown",
   "id": "54b02ac2",
   "metadata": {},
   "source": [
    "All Attribute Characteristics are Categorical and having No Missing Values\n",
    "So that we do Descriptive Statistics (EDA) "
   ]
  },
  {
   "cell_type": "code",
   "execution_count": 187,
   "id": "6be54ca1",
   "metadata": {},
   "outputs": [
    {
     "data": {
      "text/plain": [
       "['temperature',\n",
       " 'nausea_occurence',\n",
       " 'lumbar_pain',\n",
       " 'urine_pushing',\n",
       " 'micturition_pains',\n",
       " 'bis',\n",
       " 'inflammation_pred',\n",
       " 'nephritis_pred']"
      ]
     },
     "execution_count": 187,
     "metadata": {},
     "output_type": "execute_result"
    }
   ],
   "source": [
    "# obj_cols = Column Names\n",
    "obj_cols=list(df.columns)\n",
    "obj_cols"
   ]
  },
  {
   "cell_type": "markdown",
   "id": "d4db7916",
   "metadata": {},
   "source": [
    "# Descriptive statistics - EDA "
   ]
  },
  {
   "cell_type": "code",
   "execution_count": 188,
   "id": "229950b6",
   "metadata": {},
   "outputs": [],
   "source": [
    "# Dictionary contain the values number unique and unique for each column\n",
    "dict_unique_columns={'temperature':{\"number_unique\":0 ,\"unique\":' '}\n",
    "                     ,'nausea_occurence':{\"number_unique\":0 ,\"unique\":' '}\n",
    "                     , 'lumbar_pain':{\"number_unique\": 0,\"unique\":' '}\n",
    "                     ,'urine_pushing':{\"number_unique\":0 ,\"unique\":' '}\n",
    "                     , 'micturition_pains':{\"number_unique\":0 ,\"unique\":' '}\n",
    "                     ,'bis':{\"number_unique\":0 ,\"unique\":' '}\n",
    "                     ,'inflammation_pred':{\"number_unique\":0 ,\"unique\":' '}\n",
    "                     , 'nephritis_pred':{\"number_unique\":0 ,\"unique\":' '}}"
   ]
  },
  {
   "cell_type": "code",
   "execution_count": 189,
   "id": "ad2f455d",
   "metadata": {},
   "outputs": [],
   "source": [
    "# Fill dictionary\n",
    "def unique_columns (dict_unique_columns):\n",
    "    for index in dict_unique_columns:\n",
    "        dict_unique_columns[index][\"number_unique\"]=df[index].nunique()\n",
    "        dict_unique_columns[index][\"unique\"]=df[index].unique()\n",
    "unique_columns (dict_unique_columns)"
   ]
  },
  {
   "cell_type": "markdown",
   "id": "92e2918d",
   "metadata": {},
   "source": [
    "An overview of the nature of the data entered"
   ]
  },
  {
   "cell_type": "code",
   "execution_count": 190,
   "id": "b85f2906",
   "metadata": {},
   "outputs": [
    {
     "name": "stdout",
     "output_type": "stream",
     "text": [
      "Number of unique values in temperature are :  44\n",
      "Unique values in temperature are :  [35.5 35.9 36.0 36.2 36.3 36.6 36.7 36.8 36.9 37.0 37.1 37.2 37.3 37.4\n",
      " 37.5 37.6 37.7 37.8 37.9 38.0 38.1 38.3 38.5 38.7 38.9 39.0 39.4 39.7\n",
      " 40.0 40.1 40.2 40.3 40.4 40.5 40.6 40.7 40.8 40.9 41.0 41.1 41.2 41.3\n",
      " 41.4 41.5]\n",
      "____________________________________________________________\n",
      "Number of unique values in nausea_occurence are :  2\n",
      "Unique values in nausea_occurence are :  ['no' 'yes']\n",
      "____________________________________________________________\n",
      "Number of unique values in lumbar_pain are :  2\n",
      "Unique values in lumbar_pain are :  ['yes' 'no']\n",
      "____________________________________________________________\n",
      "Number of unique values in urine_pushing are :  2\n",
      "Unique values in urine_pushing are :  ['no' 'yes']\n",
      "____________________________________________________________\n",
      "Number of unique values in micturition_pains are :  2\n",
      "Unique values in micturition_pains are :  ['no' 'yes']\n",
      "____________________________________________________________\n",
      "Number of unique values in bis are :  2\n",
      "Unique values in bis are :  ['no' 'yes']\n",
      "____________________________________________________________\n",
      "Number of unique values in inflammation_pred are :  2\n",
      "Unique values in inflammation_pred are :  ['no' 'yes']\n",
      "____________________________________________________________\n",
      "Number of unique values in nephritis_pred are :  2\n",
      "Unique values in nephritis_pred are :  ['no' 'yes']\n",
      "____________________________________________________________\n"
     ]
    }
   ],
   "source": [
    "# Print dictionary contents\n",
    "def print_columns_unique (dict_unique_columns):\n",
    "    for index in dict_unique_columns:\n",
    "        print('Number of unique values in',index,'are : ',dict_unique_columns[index][\"number_unique\"])\n",
    "        print('Unique values in',index,'are : ',dict_unique_columns[index][\"unique\"])\n",
    "        print(\"___\"*20)\n",
    "print_columns_unique(dict_unique_columns)"
   ]
  },
  {
   "cell_type": "code",
   "execution_count": 191,
   "id": "e646b0c7",
   "metadata": {},
   "outputs": [],
   "source": [
    "# Terminology clear to the user\n",
    "Attribute_name=['Temperature_of_patient','Occurrence_of_nausea','Lumbar_pain','Urine_pushing','Micturition_pains','Burning_of_urethra_and_itch_and_swelling_of_urethra_outlet','Inflammation_of_urinary_bladder','Nephritis_of_renal_pelvis_origin']"
   ]
  },
  {
   "cell_type": "code",
   "execution_count": 192,
   "id": "2c621867",
   "metadata": {},
   "outputs": [
    {
     "data": {
      "image/png": "[encoded data removed]",
      "text/plain": [
       "<Figure size 432x288 with 2 Axes>"
      ]
     },
     "metadata": {},
     "output_type": "display_data"
    }
   ],
   "source": [
    "# Draw the percentage of the two diseases\n",
    "def draw_percentage_diseases (df):\n",
    "    fig = plt.figure()\n",
    "    index=1\n",
    "    while(index<3):\n",
    "        plt.subplot(1,2, index)\n",
    "        df[obj_cols[-index]].value_counts().plot.pie(explode = (0, 0.1),autopct='%1.1f%%')\n",
    "        plt.title(Attribute_name[-index])\n",
    "        index=index+1\n",
    "    plt.tight_layout()\n",
    "draw_percentage_diseases (df)"
   ]
  },
  {
   "cell_type": "markdown",
   "id": "f5ce1479",
   "metadata": {},
   "source": [
    "At the level of the data monitored for us, the percentages of infected people for each disease are fairly close, As the percentage of people with Inflammation_of_urinary_bladder disease reached 46.5% and the percentage of people with  disease Nephritis_of_renal_pelvis_origin reached 44.4%\n",
    "Accordingly, the percentage of people with Inflammation_of_urinary_bladder infection is more than people with Nephritis_of_renal_pelvis_origin"
   ]
  },
  {
   "cell_type": "code",
   "execution_count": 193,
   "id": "e6daaf67",
   "metadata": {},
   "outputs": [
    {
     "data": {
      "image/png": "[encoded data removed]",
      "text/plain": [
       "<Figure size 1080x720 with 8 Axes>"
      ]
     },
     "metadata": {
      "needs_background": "light"
     },
     "output_type": "display_data"
    }
   ],
   "source": [
    "# Draw bar chart Frequency for each column\n",
    "def draw_frequency_chart (df):\n",
    "    fig = plt.figure()\n",
    "    index=1\n",
    "    for column in obj_cols:\n",
    "        plt.subplot(3,3, index)\n",
    "        df[column].value_counts().plot.bar(figsize=(15,10))\n",
    "        plt.title(Attribute_name[index-1])\n",
    "        index=index+1\n",
    "    plt.tight_layout()\n",
    "draw_frequency_chart (df)"
   ]
  },
  {
   "cell_type": "markdown",
   "id": "27503349",
   "metadata": {},
   "source": [
    "Here it becomes clear to us that the weakest disease symptom in determining the type of disease is Occurrence Of Nausea, as a large percentage did not feels nauseous."
   ]
  },
  {
   "cell_type": "markdown",
   "id": "3b58ef85",
   "metadata": {},
   "source": [
    "A large number of people recorded that they suffer from Lumbar_pain and urine pushing, so these two symptoms seem to be a hand in determining the disease"
   ]
  },
  {
   "cell_type": "code",
   "execution_count": 194,
   "id": "a69790a8",
   "metadata": {},
   "outputs": [
    {
     "data": {
      "text/plain": [
       "<AxesSubplot:>"
      ]
     },
     "execution_count": 194,
     "metadata": {},
     "output_type": "execute_result"
    },
    {
     "data": {
      "image/png": "[encoded data removed]",
      "text/plain": [
       "<Figure size 1152x720 with 1 Axes>"
      ]
     },
     "metadata": {
      "needs_background": "light"
     },
     "output_type": "display_data"
    }
   ],
   "source": [
    "#Temperature bar chart Frequency table\n",
    "\"\"\"\"\"\"\"\"\"\"\"\n",
    "drow it in large way to to understand it\n",
    "\"\"\"\"\"\"\"\"\"\"\"\n",
    "df['temperature'].value_counts().plot.bar(figsize=(16,10))"
   ]
  },
  {
   "cell_type": "markdown",
   "id": "332eafbc",
   "metadata": {},
   "source": [
    "Most common tempretures are (40.0,40.7,41.1) and least common tempretures are (40.3,40.8,41.4,40.5,41.3,35.5,40.1,39.7,39.4,39.0,38.9,38.7,38.3,38.1,38.0,36.8,36.3,38.5)    "
   ]
  },
  {
   "cell_type": "markdown",
   "id": "19c608d5",
   "metadata": {},
   "source": [
    "##no need normalize"
   ]
  },
  {
   "cell_type": "markdown",
   "id": "1d58406a",
   "metadata": {},
   "source": [
    "# Aggregation"
   ]
  },
  {
   "cell_type": "markdown",
   "id": "a3f901a4",
   "metadata": {},
   "source": [
    "We have 6 symptoms of diseases. We want to represent each symptom with Inflammation_of_urinary_bladder and Nephritis_of_renal_pelvis_origin so that we can study the relationships and see the effect of each symptom on a disease"
   ]
  },
  {
   "cell_type": "code",
   "execution_count": 195,
   "id": "ac05ca01",
   "metadata": {},
   "outputs": [],
   "source": [
    "feature = df.iloc[:,:-2]\n",
    "target= df.iloc[:,-2:]"
   ]
  },
  {
   "cell_type": "markdown",
   "id": "393cce7b",
   "metadata": {},
   "source": [
    "1- Inflammation_of_urinary_bladder"
   ]
  },
  {
   "cell_type": "code",
   "execution_count": 196,
   "id": "a42603d0",
   "metadata": {},
   "outputs": [
    {
     "data": {
      "image/png": "[encoded data removed]",
      "text/plain": [
       "<Figure size 1080x720 with 6 Axes>"
      ]
     },
     "metadata": {
      "needs_background": "light"
     },
     "output_type": "display_data"
    }
   ],
   "source": [
    "# Draw correlations between Symptom and Inflammation_of_urinary_bladder disease \n",
    "def draw_correlation_Symptom_disease (df,disease):\n",
    "    fig = plt.figure()\n",
    "    index=1\n",
    "    for column in feature.columns:\n",
    "        plt.subplot(3,3, index)\n",
    "        df.groupby([column,disease]).size().sort_values(ascending=False).plot.bar(figsize=(15,10))\n",
    "        plt.title(Attribute_name[index-1])\n",
    "        index=index+1\n",
    "    plt.tight_layout()\n",
    "draw_correlation_Symptom_disease (df,'inflammation_pred')"
   ]
  },
  {
   "cell_type": "markdown",
   "id": "9c728dc6",
   "metadata": {},
   "source": [
    "2- Nephritis_of_renal_pelvis_origin"
   ]
  },
  {
   "cell_type": "code",
   "execution_count": 197,
   "id": "7c9b1aac",
   "metadata": {},
   "outputs": [
    {
     "data": {
      "image/png": "[encoded data removed]",
      "text/plain": [
       "<Figure size 1080x720 with 6 Axes>"
      ]
     },
     "metadata": {
      "needs_background": "light"
     },
     "output_type": "display_data"
    }
   ],
   "source": [
    "# Draw correlations between Symptom and Nephritis_of_renal_pelvis_origin disease \n",
    "draw_correlation_Symptom_disease (df,'nephritis_pred')"
   ]
  },
  {
   "cell_type": "markdown",
   "id": "3cfb32fb",
   "metadata": {},
   "source": [
    "Combination : A bar charts showing the correlation between two columns in general\"but I prefer do it in a pivot way The best study offer\""
   ]
  },
  {
   "cell_type": "markdown",
   "id": "3f878ea8",
   "metadata": {},
   "source": [
    "# Pivotting"
   ]
  },
  {
   "cell_type": "markdown",
   "id": "5c8dd330",
   "metadata": {},
   "source": [
    "1- Relation between Temperature_of_patient and Inflammation_of_urinary_bladder "
   ]
  },
  {
   "cell_type": "code",
   "execution_count": 198,
   "id": "658bbbd8",
   "metadata": {
    "scrolled": false
   },
   "outputs": [
    {
     "data": {
      "text/plain": [
       "array([<AxesSubplot:title={'center':'no'}, xlabel='temperature'>,\n",
       "       <AxesSubplot:title={'center':'yes'}, xlabel='temperature'>],\n",
       "      dtype=object)"
      ]
     },
     "execution_count": 198,
     "metadata": {},
     "output_type": "execute_result"
    },
    {
     "data": {
      "image/png": "[encoded data removed]",
      "text/plain": [
       "<Figure size 1440x720 with 2 Axes>"
      ]
     },
     "metadata": {
      "needs_background": "light"
     },
     "output_type": "display_data"
    }
   ],
   "source": [
    "#Pivotting \n",
    "df.groupby(['temperature','inflammation_pred']).size().rename(\"count\").reset_index().pivot(index='temperature', columns='inflammation_pred',values='count')\n",
    "# filling nan =0\n",
    "stats=df.groupby(['temperature','inflammation_pred']).size().rename(\"count\").reset_index().pivot(index='temperature', columns='inflammation_pred',values='count').fillna(0)\n",
    "#stats.plot.bar(figsize=(25,5),stacked=True)\n",
    "stats.plot.bar(subplots=True,figsize=(20,10))"
   ]
  },
  {
   "cell_type": "markdown",
   "id": "f3227470",
   "metadata": {},
   "source": [
    "2- Relation between Temperature_of_patient and Nephritis_of_renal_pelvis_origin"
   ]
  },
  {
   "cell_type": "code",
   "execution_count": 199,
   "id": "9df827f8",
   "metadata": {},
   "outputs": [
    {
     "data": {
      "text/plain": [
       "array([<AxesSubplot:title={'center':'no'}, xlabel='temperature'>,\n",
       "       <AxesSubplot:title={'center':'yes'}, xlabel='temperature'>],\n",
       "      dtype=object)"
      ]
     },
     "execution_count": 199,
     "metadata": {},
     "output_type": "execute_result"
    },
    {
     "data": {
      "image/png": "[encoded data removed]",
      "text/plain": [
       "<Figure size 1440x720 with 2 Axes>"
      ]
     },
     "metadata": {
      "needs_background": "light"
     },
     "output_type": "display_data"
    }
   ],
   "source": [
    "#Pivotting \n",
    "df.groupby(['temperature','nephritis_pred']).size().rename(\"count\").reset_index().pivot(index='temperature', columns='nephritis_pred',values='count')\n",
    "# fill nan =0\n",
    "stats=df.groupby(['temperature','nephritis_pred']).size().rename(\"count\").reset_index().pivot(index='temperature', columns='nephritis_pred',values='count').fillna(0)\n",
    "#stats.plot.bar(figsize=(25,5),stacked=True)\n",
    "stats.plot.bar(subplots=True,figsize=(20,10))"
   ]
  },
  {
   "cell_type": "markdown",
   "id": "d3c97ff6",
   "metadata": {},
   "source": [
    "Temperature ratios of 38 or less for the Inflammation_of_urinary_bladder.\n",
    "Temperature ratios of 38 or more for the Nephritis_of_renal_pelvis_origin."
   ]
  },
  {
   "cell_type": "markdown",
   "id": "06c7c373",
   "metadata": {},
   "source": [
    "#  Draw correlations between Symptom and Inflammation of urinary bladder "
   ]
  },
  {
   "cell_type": "code",
   "execution_count": 201,
   "id": "c6e1345d",
   "metadata": {},
   "outputs": [],
   "source": [
    "def frequency_table(data, target, column_name):\n",
    "    freq_table = pd.crosstab(index=data[target], columns=data[column_name],margins=True)\n",
    "    rel_table = round(freq_table/freq_table.loc[\"All\"], 2)\n",
    "    return freq_table, rel_table"
   ]
  },
  {
   "cell_type": "code",
   "execution_count": 278,
   "id": "f141c241",
   "metadata": {},
   "outputs": [
    {
     "name": "stdout",
     "output_type": "stream",
     "text": [
      "______________________________ Occurrence_of_nausea , Inflammation_of_urinary_bladder ______________________________\n",
      "frequency table:\n",
      "nausea_occurence   no  yes  All\n",
      "inflammation_pred              \n",
      "no                 44    9   53\n",
      "yes                30   16   46\n",
      "All                74   25   99\n",
      "______________________________\n",
      "relative frequency table\n",
      "nausea_occurence     no   yes   All\n",
      "inflammation_pred                  \n",
      "no                 0.59  0.36  0.54\n",
      "yes                0.41  0.64  0.46\n",
      "All                1.00  1.00  1.00\n"
     ]
    },
    {
     "data": {
      "image/png": "[encoded data removed]",
      "text/plain": [
       "<Figure size 360x360 with 1 Axes>"
      ]
     },
     "metadata": {
      "needs_background": "light"
     },
     "output_type": "display_data"
    }
   ],
   "source": [
    "print(\"___\"*10,'Occurrence_of_nausea , Inflammation_of_urinary_bladder',\"___\"*10)\n",
    "buying_freq, buying_rel = frequency_table(df, 'inflammation_pred', 'nausea_occurence')\n",
    "print(\"frequency table:\")\n",
    "print(buying_freq) \n",
    "df.groupby(['nausea_occurence','inflammation_pred']).size().rename(\"count\").reset_index().pivot(index='nausea_occurence', columns='inflammation_pred',values='count').fillna(0).plot.bar(figsize=(5,5),stacked=False)\n",
    "plt.title('Occurrence_of_nausea , Inflammation_of_urinary_bladder')\n",
    "print(\"___\"*10)\n",
    "print(\"relative frequency table\")\n",
    "print(buying_rel)\n"
   ]
  },
  {
   "cell_type": "markdown",
   "id": "70380682",
   "metadata": {},
   "source": [
    "Weakest disease symptom in determining the type of disease is Occurrence Of Nausea, as a large percentage did not feels nauseous."
   ]
  },
  {
   "cell_type": "code",
   "execution_count": 282,
   "id": "1619f260",
   "metadata": {},
   "outputs": [
    {
     "name": "stdout",
     "output_type": "stream",
     "text": [
      "______________________________ Occurrence_of_nausea , Nephritis_of_renal_pelvis_origin ______________________________\n",
      "frequency table:\n",
      "nausea_occurence  no  yes  All\n",
      "nephritis_pred                \n",
      "no                55    0   55\n",
      "yes               19   25   44\n",
      "All               74   25   99\n",
      "______________________________\n",
      "relative frequency table\n",
      "nausea_occurence    no  yes   All\n",
      "nephritis_pred                   \n",
      "no                0.74  0.0  0.56\n",
      "yes               0.26  1.0  0.44\n",
      "All               1.00  1.0  1.00\n"
     ]
    },
    {
     "data": {
      "image/png": "[encoded data removed]",
      "text/plain": [
       "<Figure size 360x360 with 1 Axes>"
      ]
     },
     "metadata": {
      "needs_background": "light"
     },
     "output_type": "display_data"
    }
   ],
   "source": [
    "print(\"___\"*10,'Occurrence_of_nausea , Nephritis_of_renal_pelvis_origin',\"___\"*10)\n",
    "buying_freq, buying_rel = frequency_table(df, 'nephritis_pred', 'nausea_occurence')\n",
    "print(\"frequency table:\")\n",
    "print(buying_freq) \n",
    "df.groupby(['nausea_occurence','nephritis_pred']).size().rename(\"count\").reset_index().pivot(index='nausea_occurence', columns='nephritis_pred',values='count').fillna(0).plot.bar(figsize=(5,5),stacked=False)\n",
    "plt.title('Occurrence_of_nausea , Nephritis_of_renal_pelvis_origin')\n",
    "print(\"___\"*10)\n",
    "print(\"relative frequency table\")\n",
    "print(buying_rel)"
   ]
  },
  {
   "cell_type": "markdown",
   "id": "d3388ba8",
   "metadata": {},
   "source": [
    "Weakest disease symptom in determining the type of disease is Occurrence Of Nausea, as a large percentage did not feels nauseous."
   ]
  },
  {
   "cell_type": "code",
   "execution_count": 283,
   "id": "ef1aff0f",
   "metadata": {},
   "outputs": [
    {
     "name": "stdout",
     "output_type": "stream",
     "text": [
      "______________________________ Lumbar_pain,Inflammation_of_urinary_bladder ______________________________\n",
      "frequency table:\n",
      "lumbar_pain        no  yes  All\n",
      "inflammation_pred              \n",
      "no                  9   44   53\n",
      "yes                30   16   46\n",
      "All                39   60   99\n",
      "______________________________\n",
      "relative frequency table\n",
      "lumbar_pain          no   yes   All\n",
      "inflammation_pred                  \n",
      "no                 0.23  0.73  0.54\n",
      "yes                0.77  0.27  0.46\n",
      "All                1.00  1.00  1.00\n"
     ]
    },
    {
     "data": {
      "image/png": "[encoded data removed]",
      "text/plain": [
       "<Figure size 360x360 with 1 Axes>"
      ]
     },
     "metadata": {
      "needs_background": "light"
     },
     "output_type": "display_data"
    }
   ],
   "source": [
    "print(\"___\"*10,'Lumbar_pain,Inflammation_of_urinary_bladder',\"___\"*10)\n",
    "buying_freq, buying_rel = frequency_table(df, 'inflammation_pred', 'lumbar_pain')\n",
    "print(\"frequency table:\")\n",
    "print(buying_freq) \n",
    "df.groupby(['lumbar_pain','inflammation_pred']).size().rename(\"count\").reset_index().pivot(index='lumbar_pain', columns='inflammation_pred',values='count').fillna(0).plot.bar(figsize=(5,5),stacked=False)\n",
    "plt.title('Lumbar_pain,Inflammation_of_urinary_bladder')\n",
    "print(\"___\"*10)\n",
    "print(\"relative frequency table\")\n",
    "print(buying_rel)\n"
   ]
  },
  {
   "cell_type": "markdown",
   "id": "1fc02828",
   "metadata": {},
   "source": [
    "Lumbar_pain affects in a weak way Inflammation_of_urinary_bladder."
   ]
  },
  {
   "cell_type": "code",
   "execution_count": 285,
   "id": "452af059",
   "metadata": {},
   "outputs": [
    {
     "name": "stdout",
     "output_type": "stream",
     "text": [
      "______________________________ Lumbar_pain , Nephritis_of_renal_pelvis_origin ______________________________\n",
      "frequency table:\n",
      "lumbar_pain     no  yes  All\n",
      "nephritis_pred              \n",
      "no              39   16   55\n",
      "yes              0   44   44\n",
      "All             39   60   99\n",
      "______________________________\n",
      "relative frequency table\n",
      "lumbar_pain      no   yes   All\n",
      "nephritis_pred                 \n",
      "no              1.0  0.27  0.56\n",
      "yes             0.0  0.73  0.44\n",
      "All             1.0  1.00  1.00\n"
     ]
    },
    {
     "data": {
      "image/png": "[encoded data removed]",
      "text/plain": [
       "<Figure size 360x360 with 1 Axes>"
      ]
     },
     "metadata": {
      "needs_background": "light"
     },
     "output_type": "display_data"
    }
   ],
   "source": [
    "print(\"___\"*10,'Lumbar_pain , Nephritis_of_renal_pelvis_origin',\"___\"*10)\n",
    "buying_freq, buying_rel = frequency_table(df, 'nephritis_pred', 'lumbar_pain')\n",
    "print(\"frequency table:\")\n",
    "print(buying_freq) \n",
    "df.groupby(['lumbar_pain','nephritis_pred']).size().rename(\"count\").reset_index().pivot(index='lumbar_pain', columns='nephritis_pred',values='count').fillna(0).plot.bar(figsize=(5,5),stacked=False)\n",
    "plt.title('Lumbar_pain,Nephritis_of_renal_pelvis_origin')\n",
    "print(\"___\"*10)\n",
    "print(\"relative frequency table\")\n",
    "print(buying_rel)"
   ]
  },
  {
   "cell_type": "markdown",
   "id": "3a4b9da0",
   "metadata": {},
   "source": [
    "Lumbar_pain affects in a weak way Inflammation_of_urinary_bladder.On the other hand, however, it affects greatly Nephritis_of_renal_pelvis_origin."
   ]
  },
  {
   "cell_type": "code",
   "execution_count": 287,
   "id": "b419e3bf",
   "metadata": {},
   "outputs": [
    {
     "name": "stdout",
     "output_type": "stream",
     "text": [
      "______________________________ Urine_pushing , Inflammation_of_urinary_bladder ______________________________\n",
      "frequency table:\n",
      "urine_pushing      no  yes  All\n",
      "inflammation_pred              \n",
      "no                 34   19   53\n",
      "yes                 0   46   46\n",
      "All                34   65   99\n",
      "______________________________\n",
      "relative frequency table\n",
      "urine_pushing       no   yes   All\n",
      "inflammation_pred                 \n",
      "no                 1.0  0.29  0.54\n",
      "yes                0.0  0.71  0.46\n",
      "All                1.0  1.00  1.00\n"
     ]
    },
    {
     "data": {
      "image/png": "[encoded data removed]",
      "text/plain": [
       "<Figure size 360x360 with 1 Axes>"
      ]
     },
     "metadata": {
      "needs_background": "light"
     },
     "output_type": "display_data"
    }
   ],
   "source": [
    "print(\"___\"*10,'Urine_pushing , Inflammation_of_urinary_bladder',\"___\"*10)\n",
    "buying_freq, buying_rel = frequency_table(df, 'inflammation_pred', 'urine_pushing')\n",
    "print(\"frequency table:\")\n",
    "print(buying_freq) \n",
    "df.groupby(['urine_pushing','inflammation_pred']).size().rename(\"count\").reset_index().pivot(index='urine_pushing', columns='inflammation_pred',values='count').fillna(0).plot.bar(figsize=(5,5),stacked=False)\n",
    "plt.title('Urine_pushing,Inflammation_of_urinary_bladder')\n",
    "print(\"___\"*10)\n",
    "print(\"relative frequency table\")\n",
    "print(buying_rel)\n"
   ]
  },
  {
   "cell_type": "code",
   "execution_count": 289,
   "id": "ebd5dc4e",
   "metadata": {},
   "outputs": [
    {
     "name": "stdout",
     "output_type": "stream",
     "text": [
      "______________________________ Urine_pushing , Nephritis_of_renal_pelvis_origin ______________________________\n",
      "frequency table:\n",
      "urine_pushing   no  yes  All\n",
      "nephritis_pred              \n",
      "no              25   30   55\n",
      "yes              9   35   44\n",
      "All             34   65   99\n",
      "______________________________\n",
      "relative frequency table\n",
      "urine_pushing     no   yes   All\n",
      "nephritis_pred                  \n",
      "no              0.74  0.46  0.56\n",
      "yes             0.26  0.54  0.44\n",
      "All             1.00  1.00  1.00\n"
     ]
    },
    {
     "data": {
      "image/png": "[encoded data removed]",
      "text/plain": [
       "<Figure size 360x360 with 1 Axes>"
      ]
     },
     "metadata": {
      "needs_background": "light"
     },
     "output_type": "display_data"
    }
   ],
   "source": [
    "print(\"___\"*10,'Urine_pushing , Nephritis_of_renal_pelvis_origin',\"___\"*10)\n",
    "buying_freq, buying_rel = frequency_table(df, 'nephritis_pred', 'urine_pushing')\n",
    "print(\"frequency table:\")\n",
    "print(buying_freq) \n",
    "df.groupby(['urine_pushing','nephritis_pred']).size().rename(\"count\").reset_index().pivot(index='urine_pushing', columns='nephritis_pred',values='count').fillna(0).plot.bar(figsize=(5,5),stacked=False)\n",
    "plt.title('Urine_pushing,Nephritis_of_renal_pelvis_origin')\n",
    "print(\"___\"*10)\n",
    "print(\"relative frequency table\")\n",
    "print(buying_rel)\n"
   ]
  },
  {
   "cell_type": "markdown",
   "id": "fdfa030e",
   "metadata": {},
   "source": [
    "Urine_pushing it most common for Inflammation_of_urinary_bladder and least common for Nephritis_of_renal_pelvis_origin"
   ]
  },
  {
   "cell_type": "code",
   "execution_count": 291,
   "id": "d59f17bd",
   "metadata": {},
   "outputs": [
    {
     "name": "stdout",
     "output_type": "stream",
     "text": [
      "______________________________ Micturition_pains , Inflammation_of_urinary_bladder ______________________________\n",
      "frequency table:\n",
      "micturition_pains  no  yes  All\n",
      "inflammation_pred              \n",
      "no                 44    9   53\n",
      "yes                 9   37   46\n",
      "All                53   46   99\n",
      "______________________________\n",
      "relative frequency table\n",
      "micturition_pains    no  yes   All\n",
      "inflammation_pred                 \n",
      "no                 0.83  0.2  0.54\n",
      "yes                0.17  0.8  0.46\n",
      "All                1.00  1.0  1.00\n"
     ]
    },
    {
     "data": {
      "image/png": "[encoded data removed]",
      "text/plain": [
       "<Figure size 360x360 with 1 Axes>"
      ]
     },
     "metadata": {
      "needs_background": "light"
     },
     "output_type": "display_data"
    }
   ],
   "source": [
    "print(\"___\"*10,'Micturition_pains , Inflammation_of_urinary_bladder',\"___\"*10)\n",
    "buying_freq, buying_rel = frequency_table(df, 'inflammation_pred', 'micturition_pains')\n",
    "print(\"frequency table:\")\n",
    "print(buying_freq) \n",
    "df.groupby(['micturition_pains','inflammation_pred']).size().rename(\"count\").reset_index().pivot(index='micturition_pains', columns='inflammation_pred',values='count').fillna(0).plot.bar(figsize=(5,5),stacked=False)\n",
    "plt.title('Micturition_pains,Inflammation_of_urinary_bladder')\n",
    "print(\"___\"*10)\n",
    "print(\"relative frequency table\")\n",
    "print(buying_rel)\n"
   ]
  },
  {
   "cell_type": "code",
   "execution_count": 290,
   "id": "e296c782",
   "metadata": {},
   "outputs": [
    {
     "name": "stdout",
     "output_type": "stream",
     "text": [
      "______________________________ Micturition_pains , Nephritis_of_renal_pelvis_origin ______________________________\n",
      "frequency table:\n",
      "micturition_pains  no  yes  All\n",
      "nephritis_pred                 \n",
      "no                 34   21   55\n",
      "yes                19   25   44\n",
      "All                53   46   99\n",
      "______________________________\n",
      "relative frequency table\n",
      "micturition_pains    no   yes   All\n",
      "nephritis_pred                     \n",
      "no                 0.64  0.46  0.56\n",
      "yes                0.36  0.54  0.44\n",
      "All                1.00  1.00  1.00\n"
     ]
    },
    {
     "data": {
      "image/png": "[encoded data removed]",
      "text/plain": [
       "<Figure size 360x360 with 1 Axes>"
      ]
     },
     "metadata": {
      "needs_background": "light"
     },
     "output_type": "display_data"
    }
   ],
   "source": [
    "print(\"___\"*10,'Micturition_pains , Nephritis_of_renal_pelvis_origin',\"___\"*10)\n",
    "buying_freq, buying_rel = frequency_table(df, 'nephritis_pred', 'micturition_pains')\n",
    "print(\"frequency table:\")\n",
    "print(buying_freq) \n",
    "df.groupby(['micturition_pains','nephritis_pred']).size().rename(\"count\").reset_index().pivot(index='micturition_pains', columns='nephritis_pred',values='count').fillna(0).plot.bar(figsize=(5,5),stacked=False)\n",
    "plt.title('Micturition_pains,Nephritis_of_renal_pelvis_origin')\n",
    "print(\"___\"*10)\n",
    "print(\"relative frequency table\")\n",
    "print(buying_rel)"
   ]
  },
  {
   "cell_type": "markdown",
   "id": "232fc2a4",
   "metadata": {},
   "source": [
    "Micturition_pains it most common for Inflammation_of_urinary_bladder and least common for Nephritis_of_renal_pelvis_origin"
   ]
  },
  {
   "cell_type": "code",
   "execution_count": 294,
   "id": "2af1ad1d",
   "metadata": {},
   "outputs": [
    {
     "name": "stdout",
     "output_type": "stream",
     "text": [
      "______________________________ Burning_of_urethra_and_itch_and_swelling_of_urethra_outlet, Inflammation_of_urinary_bladder ______________________________\n",
      "frequency table:\n",
      "bis                no  yes  All\n",
      "inflammation_pred              \n",
      "no                 34   19   53\n",
      "yes                23   23   46\n",
      "All                57   42   99\n",
      "______________________________\n",
      "relative frequency table\n",
      "bis                 no   yes   All\n",
      "inflammation_pred                 \n",
      "no                 0.6  0.45  0.54\n",
      "yes                0.4  0.55  0.46\n",
      "All                1.0  1.00  1.00\n"
     ]
    },
    {
     "data": {
      "image/png": "[encoded data removed]",
      "text/plain": [
       "<Figure size 360x360 with 1 Axes>"
      ]
     },
     "metadata": {
      "needs_background": "light"
     },
     "output_type": "display_data"
    }
   ],
   "source": [
    "print(\"___\"*10,'Burning_of_urethra_and_itch_and_swelling_of_urethra_outlet, Inflammation_of_urinary_bladder',\"___\"*10)\n",
    "buying_freq, buying_rel = frequency_table(df, 'inflammation_pred', 'bis')\n",
    "print(\"frequency table:\")\n",
    "print(buying_freq) \n",
    "df.groupby(['bis','inflammation_pred']).size().rename(\"count\").reset_index().pivot(index='bis', columns='inflammation_pred',values='count').fillna(0).plot.bar(figsize=(5,5),stacked=False)\n",
    "plt.title('Burning_of_urethra_and_itch_and_swelling_of_urethra_outlet,Inflammation_of_urinary_bladder')\n",
    "print(\"___\"*10)\n",
    "print(\"relative frequency table\")\n",
    "print(buying_rel)\n"
   ]
  },
  {
   "cell_type": "markdown",
   "id": "49bbb72a",
   "metadata": {},
   "source": [
    "It has an effect but not strong"
   ]
  },
  {
   "cell_type": "code",
   "execution_count": 293,
   "id": "ac7e428a",
   "metadata": {},
   "outputs": [
    {
     "name": "stdout",
     "output_type": "stream",
     "text": [
      "______________________________ Burning_of_urethra_and_itch_and_swelling_of_urethra_outlet, Nephritis_of_renal_pelvis_origin ______________________________\n",
      "frequency table:\n",
      "bis             no  yes  All\n",
      "nephritis_pred              \n",
      "no              40   15   55\n",
      "yes             17   27   44\n",
      "All             57   42   99\n",
      "______________________________\n",
      "relative frequency table\n",
      "bis              no   yes   All\n",
      "nephritis_pred                 \n",
      "no              0.7  0.36  0.56\n",
      "yes             0.3  0.64  0.44\n",
      "All             1.0  1.00  1.00\n"
     ]
    },
    {
     "data": {
      "image/png": "[encoded data removed]",
      "text/plain": [
       "<Figure size 360x360 with 1 Axes>"
      ]
     },
     "metadata": {
      "needs_background": "light"
     },
     "output_type": "display_data"
    }
   ],
   "source": [
    "print(\"___\"*10,'Burning_of_urethra_and_itch_and_swelling_of_urethra_outlet, Nephritis_of_renal_pelvis_origin',\"___\"*10)\n",
    "buying_freq, buying_rel = frequency_table(df, 'nephritis_pred', 'bis')\n",
    "print(\"frequency table:\")\n",
    "print(buying_freq) \n",
    "df.groupby(['bis','nephritis_pred']).size().rename(\"count\").reset_index().pivot(index='bis', columns='nephritis_pred',values='count').fillna(0).plot.bar(figsize=(5,5),stacked=False)\n",
    "plt.title('Burning_of_urethra_and_itch_and_swelling_of_urethra_outlet,Nephritis_of_renal_pelvis_origin')\n",
    "print(\"___\"*10)\n",
    "print(\"relative frequency table\")\n",
    "print(buying_rel)\n"
   ]
  },
  {
   "cell_type": "markdown",
   "id": "c76e517e",
   "metadata": {},
   "source": [
    "It has an effect but not strong"
   ]
  },
  {
   "cell_type": "code",
   "execution_count": 207,
   "id": "5fc5fdee",
   "metadata": {},
   "outputs": [
    {
     "data": {
      "text/plain": [
       "0     35.5\n",
       "1     35.9\n",
       "2     35.9\n",
       "3     36.0\n",
       "4     36.0\n",
       "      ... \n",
       "94    41.3\n",
       "95    41.4\n",
       "96    41.5\n",
       "97    41.5\n",
       "98    41.5\n",
       "Name: temperature, Length: 99, dtype: object"
      ]
     },
     "execution_count": 207,
     "metadata": {},
     "output_type": "execute_result"
    }
   ],
   "source": [
    "#population\n",
    "df['temperature']"
   ]
  },
  {
   "cell_type": "code",
   "execution_count": 226,
   "id": "7f5a06ea",
   "metadata": {},
   "outputs": [],
   "source": [
    "df['temperature']=df['temperature'].astype(float)"
   ]
  },
  {
   "cell_type": "markdown",
   "id": "0a2defb6",
   "metadata": {},
   "source": [
    "# Sampling Distribution"
   ]
  },
  {
   "cell_type": "code",
   "execution_count": 259,
   "id": "96c95241",
   "metadata": {},
   "outputs": [
    {
     "data": {
      "image/png": "[encoded data removed]",
      "text/plain": [
       "<Figure size 432x288 with 1 Axes>"
      ]
     },
     "metadata": {
      "needs_background": "light"
     },
     "output_type": "display_data"
    }
   ],
   "source": [
    "# to plot normal distribution\n",
    "import scipy.stats as sstats\n",
    "# the population mean is 40\n",
    "mu = 40\n",
    "# the population standard deviation is 5\n",
    "sigma = 5\n",
    "#temperature distribution\n",
    "plt.plot(df['temperature'], sstats.norm.pdf(df['temperature'], mu, sigma))\n",
    "plt.show()"
   ]
  },
  {
   "cell_type": "markdown",
   "id": "d47d485f",
   "metadata": {},
   "source": [
    "The average temperature is 40"
   ]
  },
  {
   "cell_type": "code",
   "execution_count": 264,
   "id": "5f553ce1",
   "metadata": {},
   "outputs": [
    {
     "name": "stdout",
     "output_type": "stream",
     "text": [
      "38.34925746571528 5.5496096426969554\n",
      "42.519100491920646 3.314717521684167\n",
      "41.20522690253512 4.571991089914023\n",
      "39.50907982337393 4.885317390816456\n",
      "39.10500920694877 3.530892444173716\n",
      "41.04870219332131 5.833779384431977\n",
      "39.973947593323345 5.502704568728224\n",
      "40.9452849263467 4.5443124775503\n",
      "40.81294631783967 6.642615245259714\n",
      "41.88768337568564 5.444323671259773\n",
      "40.57477472486101 4.066965045106176\n",
      "40.28330476656758 3.8639541825638846\n",
      "39.7448818601579 6.141309193135126\n",
      "40.706325723871274 4.6439001366658665\n",
      "40.67820041417782 4.778191623193441\n",
      "41.653001939817344 4.873343633293239\n",
      "42.987080371826366 4.6541066578115045\n",
      "40.521902836240386 3.367289604701451\n",
      "41.9785458453937 4.352463172951079\n",
      "41.46259828732219 4.3734184588629414\n",
      "41.022751156207164 5.706098778392101\n",
      "40.187526458438406 3.756976855572552\n",
      "39.777877111307774 3.764855411927945\n",
      "40.8414109504095 3.81132341725106\n",
      "41.1374770540463 5.112820778973467\n",
      "42.68186193532627 4.327161029937387\n",
      "39.13566889772434 4.0911224066352005\n",
      "38.0478365798693 5.2297111966571865\n",
      "39.001521830108295 5.424005941045438\n",
      "41.96176313863914 5.1463001365168175\n",
      "41.37960057409235 5.457958013216358\n",
      "39.04433943217138 6.140341185782015\n",
      "38.60193013851965 4.674501312671154\n",
      "44.595549203511496 3.9477820673118704\n",
      "39.6020616260244 4.18046528077834\n",
      "41.048649538075274 5.921953724935439\n",
      "37.20287027754763 3.329118711899499\n",
      "40.62671489475919 4.856725958525677\n",
      "39.94763604266204 5.222235142552076\n",
      "40.228352135700064 3.6719889975108955\n",
      "38.48104401268357 6.275684117296118\n",
      "40.943670255740486 2.793508760132831\n",
      "38.63953988833818 6.880277290182212\n",
      "36.4720557464651 5.218516277702939\n",
      "40.67468426452791 4.43840048436753\n",
      "43.58658250795584 5.141259609425674\n",
      "38.883345404444796 7.456188230193956\n",
      "37.4341978795318 4.636638371538063\n",
      "37.584957529014574 5.485228639937145\n",
      "40.87133065032607 5.245684878167483\n"
     ]
    }
   ],
   "source": [
    "num_of_samples = 50\n",
    "for i in range(num_of_samples):\n",
    "    sample = np.random.normal(loc=40, scale=5, size=10)\n",
    "    # sample statistics\n",
    "    print(sample.mean(), sample.std())"
   ]
  },
  {
   "cell_type": "code",
   "execution_count": 268,
   "id": "1fbda30a",
   "metadata": {},
   "outputs": [
    {
     "data": {
      "image/png": "[encoded data removed]",
      "text/plain": [
       "<Figure size 432x288 with 1 Axes>"
      ]
     },
     "metadata": {
      "needs_background": "light"
     },
     "output_type": "display_data"
    },
    {
     "name": "stdout",
     "output_type": "stream",
     "text": [
      "40.00070273510794 0.16466717323107036\n"
     ]
    }
   ],
   "source": [
    "num_of_samples =1000\n",
    "sample_statistics  = []\n",
    "for i in range(num_of_samples):\n",
    "    sample = np.random.normal(loc=40, scale=5, size=1000)\n",
    "    #sample=population\n",
    "    #plt.hist(sample)\n",
    "    sample_statistics.append(sample.mean())\n",
    "plt.show()\n",
    "plt.hist(sample_statistics, bins=30) \n",
    "plt.show()\n",
    "print(np.array(sample_statistics).mean(),\n",
    "      np.array(sample_statistics).std())"
   ]
  },
  {
   "cell_type": "markdown",
   "id": "a564e586",
   "metadata": {},
   "source": [
    "The project was presented to a general practitioner, who noted that all of the results shown make a lot of sense. He added that it is advisable to take more data from patients in order for the disease prediction process to succeed correctly. Accordingly, it was agreed to add more proposals to the project, as follows:"
   ]
  },
  {
   "cell_type": "markdown",
   "id": "13b06872",
   "metadata": {},
   "source": [
    "1- It is true that lower back pain is very common in nephritis, but on the other hand, lower abdominal pain is very common in cystitis.\n",
    "2- Determining the sex, it is recognized in the medical field that females are more susceptible to cystitis.\n",
    "3- Perform a urine test to see the level of white blood cells in the blood, and the presence of bacteria in the urine.\n",
    "4- Signs of blood poisoning (featured in nephritis).\n",
    "5- Low blood pressure (featured in nephritis).\n",
    "6- Rapid heartbeat (contained in nephritis)."
   ]
  },
  {
   "cell_type": "markdown",
   "id": "f45f43db",
   "metadata": {},
   "source": [
    "2- Determining the sex, it is recognized in the medical field that females are more susceptible to cystitis."
   ]
  },
  {
   "cell_type": "markdown",
   "id": "53f2b1a2",
   "metadata": {},
   "source": [
    "3- Perform a urine test to see the level of white blood cells in the blood, and the presence of bacteria in the urine."
   ]
  },
  {
   "cell_type": "markdown",
   "id": "86729c24",
   "metadata": {},
   "source": [
    "4- Signs of blood poisoning (featured in nephritis)."
   ]
  },
  {
   "cell_type": "markdown",
   "id": "a099c520",
   "metadata": {},
   "source": [
    "5- Low blood pressure (featured in nephritis). "
   ]
  },
  {
   "cell_type": "markdown",
   "id": "808372ed",
   "metadata": {},
   "source": [
    " 6- Rapid heartbeat (contained in nephritis)."
   ]
  }
 ],
 "metadata": {
  "kernelspec": {
   "display_name": "Python 3 (ipykernel)",
   "language": "python",
   "name": "python3"
  },
  "language_info": {
   "codemirror_mode": {
    "name": "ipython",
    "version": 3
   },
   "file_extension": ".py",
   "mimetype": "text/x-python",
   "name": "python",
   "nbconvert_exporter": "python",
   "pygments_lexer": "ipython3",
   "version": "3.9.12"
  }
 },
 "nbformat": 4,
 "nbformat_minor": 5
}
